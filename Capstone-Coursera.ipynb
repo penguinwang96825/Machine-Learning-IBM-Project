{
    "cells": [
        {
            "cell_type": "markdown",
            "metadata": {
                "collapsed": true
            },
            "source": "# Capstone Project"
        },
        {
            "cell_type": "markdown",
            "metadata": {},
            "source": "This prject aims to build a classifier to predict whether a loan case will be paid off or not.\nI use the following algorithms to build the models:\n\n- k-Nearest Neighbour\n- Decision Tree\n- Support Vector Machine\n- Logistic Regression\n\nThe results is reported as the accuracy of each classifier using the following metrics when these are applicable:\n\n- Jaccard index\n- F1-score\n- LogLoass"
        },
        {
            "cell_type": "markdown",
            "metadata": {},
            "source": "## Steps\n\n1. Building model using KNN, finding the best k and accuracy evaluation\n2. Building model using Decision Tree and find the accuracy evaluation\n3. Building model using SVM and find the accuracy evaluation\n4. Building model using Logistic Regression and find the accuracy evaluation"
        },
        {
            "cell_type": "code",
            "execution_count": null,
            "metadata": {},
            "outputs": [],
            "source": ""
        }
    ],
    "metadata": {
        "kernelspec": {
            "display_name": "Python 3.7",
            "language": "python",
            "name": "python3"
        },
        "language_info": {
            "codemirror_mode": {
                "name": "ipython",
                "version": 3
            },
            "file_extension": ".py",
            "mimetype": "text/x-python",
            "name": "python",
            "nbconvert_exporter": "python",
            "pygments_lexer": "ipython3",
            "version": "3.7.9"
        }
    },
    "nbformat": 4,
    "nbformat_minor": 1
}